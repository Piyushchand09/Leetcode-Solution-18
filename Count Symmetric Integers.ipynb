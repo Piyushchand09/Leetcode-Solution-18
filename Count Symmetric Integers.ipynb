{
 "cells": [
  {
   "cell_type": "code",
   "execution_count": null,
   "id": "d54f9c6f",
   "metadata": {
    "vscode": {
     "languageId": "plaintext"
    }
   },
   "outputs": [],
   "source": [
    "# Count Symmetric Integers\n",
    "class Solution:\n",
    "    def countSymmetricIntegers(self, low: int, high: int) -> int:\n",
    "     \n",
    "        count = 0 \n",
    "\n",
    "        for num in range(low, high + 1):\n",
    "            s = str(num)  \n",
    "            n = len(s)\n",
    "\n",
    "            if n % 2 != 0:\n",
    "                continue  \n",
    "\n",
    "            half = n // 2\n",
    "            left = sum(int(s[i]) for i in range(half))  \n",
    "            right = sum(int(s[i]) for i in range(half, n))  \n",
    "\n",
    "            if left == right:\n",
    "                count += 1  \n",
    "\n",
    "        return count"
   ]
  }
 ],
 "metadata": {
  "kernelspec": {
   "display_name": "Python 3 (ipykernel)",
   "language": "python",
   "name": "python3"
  },
  "language_info": {
   "codemirror_mode": {
    "name": "ipython",
    "version": 3
   },
   "file_extension": ".py",
   "mimetype": "text/x-python",
   "name": "python",
   "nbconvert_exporter": "python",
   "pygments_lexer": "ipython3",
   "version": "3.12.4"
  }
 },
 "nbformat": 4,
 "nbformat_minor": 5
}
